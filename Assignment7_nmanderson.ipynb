{
 "cells": [
  {
   "cell_type": "code",
   "execution_count": 1,
   "metadata": {},
   "outputs": [],
   "source": [
    "import pandas as pd\n",
    "import numpy as np\n",
    "from sklearn import tree\n",
    "from sklearn.tree import DecisionTreeClassifier\n",
    "from sklearn import metrics\n",
    "\n",
    "import warnings\n",
    "warnings.filterwarnings(\"ignore\")"
   ]
  },
  {
   "cell_type": "code",
   "execution_count": 2,
   "metadata": {},
   "outputs": [],
   "source": [
    "df = pd.read_csv('StudentsPerformance.DataMining.csv')\n",
    "\n",
    "x = df.loc[:,['gender', 'race/ethnicity', 'parental level of education', 'test prep course', 'reading score', 'writing score']]\n",
    "\n",
    "y = df['math score']\n",
    "\n",
    "x['gender'] = x['gender'].astype(object)\n",
    "x['race/ethnicity'] = x['race/ethnicity'].astype(object)\n",
    "x['parental level of education'] = x['parental level of education'].astype(object)\n",
    "x['test prep course'] = x['test prep course'].astype(object)\n",
    "x = pd.get_dummies(x)"
   ]
  },
  {
   "cell_type": "markdown",
   "metadata": {},
   "source": [
    "### assignment worked on with Neil Manderson\n",
    "\n",
    "This data contains high school students' performances on 3 standardized tests.\n",
    "\n",
    "It was obtained from kaggle.com.\n",
    "\n",
    "\n",
    "The input variables are 'gender', 'race/ethnicity', 'parental level of education', and 'test prep course'.\n",
    "\n",
    "There are 3 potential target variables, but for this assignment we will be using 'math score' as the target variable.\n",
    "\n",
    "This dataset containes 1000 observations."
   ]
  },
  {
   "cell_type": "code",
   "execution_count": 3,
   "metadata": {},
   "outputs": [],
   "source": [
    "from sklearn.model_selection import train_test_split\n",
    "\n",
    "x_train,x_test,y_train,y_test=train_test_split(x,y,test_size=0.2)"
   ]
  },
  {
   "cell_type": "markdown",
   "metadata": {},
   "source": [
    "# Decision Tree"
   ]
  },
  {
   "cell_type": "code",
   "execution_count": 4,
   "metadata": {},
   "outputs": [
    {
     "name": "stdout",
     "output_type": "stream",
     "text": [
      "Training Accuracy: 0.98875\n",
      "Testing Accuracy: 0.06\n"
     ]
    }
   ],
   "source": [
    "model = DecisionTreeClassifier()\n",
    "model.fit(x_train, y_train)\n",
    "\n",
    "print('Training Accuracy:', model.score(x_train, y_train))\n",
    "\n",
    "y_pred = model.predict(x_test)\n",
    "print('Testing Accuracy:', metrics.accuracy_score(y_pred, y_test))"
   ]
  },
  {
   "cell_type": "code",
   "execution_count": 5,
   "metadata": {},
   "outputs": [
    {
     "name": "stdout",
     "output_type": "stream",
     "text": [
      "Best Parameters Are: {'criterion': 'entropy', 'max_depth': 4}\n",
      "Training Accuracy: 0.1275\n",
      "Testing Accuracy: 0.05\n"
     ]
    }
   ],
   "source": [
    "param_grid = {'max_depth': range(1,10), 'criterion':['gini', 'entropy']}\n",
    "\n",
    "from sklearn.model_selection import GridSearchCV\n",
    "model = GridSearchCV(DecisionTreeClassifier(), param_grid, cv = 5)\n",
    "model.fit(x_train, y_train)\n",
    "\n",
    "print('Best Parameters Are:', model.best_params_)\n",
    "\n",
    "print('Training Accuracy:', model.score(x_train, y_train))\n",
    "\n",
    "y_pred = model.predict(x_test)\n",
    "print('Testing Accuracy:', metrics.accuracy_score(y_pred, y_test))"
   ]
  },
  {
   "cell_type": "markdown",
   "metadata": {},
   "source": [
    "## Decision Tree Regression"
   ]
  },
  {
   "cell_type": "code",
   "execution_count": 6,
   "metadata": {},
   "outputs": [
    {
     "name": "stdout",
     "output_type": "stream",
     "text": [
      "Rsquared on Training 0.9966144353869122\n",
      "Rsquared on Testing 0.6615633344416878\n"
     ]
    }
   ],
   "source": [
    "from sklearn.tree import DecisionTreeRegressor\n",
    "from sklearn.metrics import r2_score\n",
    "\n",
    "model = DecisionTreeRegressor()\n",
    "model.fit(x_train, y_train)\n",
    "\n",
    "print('Rsquared on Training', r2_score(y_train, model.predict(x_train)))\n",
    "print('Rsquared on Testing', r2_score(y_test, model.predict(x_test)))"
   ]
  },
  {
   "cell_type": "code",
   "execution_count": 7,
   "metadata": {},
   "outputs": [
    {
     "name": "stdout",
     "output_type": "stream",
     "text": [
      "Best parameters are: {'max_depth': 6}\n",
      "Rsquared on Training 0.883749043523264\n",
      "Rsquared on Testing 0.7698552015205828\n"
     ]
    }
   ],
   "source": [
    "param_grid = {'max_depth': np.arange(1,100,5)}\n",
    "\n",
    "from sklearn.model_selection import GridSearchCV\n",
    "model = GridSearchCV(DecisionTreeRegressor(), param_grid, cv = 5)\n",
    "model.fit(x_train, y_train)\n",
    "\n",
    "print('Best parameters are:', model.best_params_)\n",
    "\n",
    "print('Rsquared on Training', r2_score(y_train, model.predict(x_train)))\n",
    "print('Rsquared on Testing', r2_score(y_test, model.predict(x_test)))"
   ]
  },
  {
   "cell_type": "markdown",
   "metadata": {},
   "source": [
    "# Random Forest"
   ]
  },
  {
   "cell_type": "code",
   "execution_count": 8,
   "metadata": {},
   "outputs": [
    {
     "name": "stdout",
     "output_type": "stream",
     "text": [
      "Training Accuracy: 0.95375\n",
      "Testing Accuracy: 0.035\n"
     ]
    }
   ],
   "source": [
    "from sklearn.ensemble import RandomForestClassifier\n",
    "\n",
    "model = RandomForestClassifier()\n",
    "model.fit(x_train, y_train)\n",
    "\n",
    "print('Training Accuracy:', model.score(x_train, y_train))\n",
    "\n",
    "y_pred = model.predict(x_test)\n",
    "print('Testing Accuracy:', metrics.accuracy_score(y_pred, y_test))"
   ]
  },
  {
   "cell_type": "code",
   "execution_count": 9,
   "metadata": {},
   "outputs": [
    {
     "name": "stdout",
     "output_type": "stream",
     "text": [
      "Best Params Are: {'max_features': 7, 'n_estimators': 12}\n",
      "Training Accuracy: 0.98125\n",
      "Testing Accuracy: 0.045\n"
     ]
    }
   ],
   "source": [
    "param_grid = {'n_estimators': np.arange(2,50,2), 'max_features': np.arange(2,10)}\n",
    "\n",
    "from sklearn.model_selection import GridSearchCV\n",
    "model = GridSearchCV(RandomForestClassifier(), param_grid, cv = 5)\n",
    "model.fit(x_train, y_train)\n",
    "\n",
    "print('Best Params Are:', model.best_params_)\n",
    "\n",
    "print('Training Accuracy:', model.score(x_train, y_train))\n",
    "\n",
    "y_pred = model.predict(x_test)\n",
    "print('Testing Accuracy:', metrics.accuracy_score(y_pred, y_test))"
   ]
  },
  {
   "cell_type": "markdown",
   "metadata": {},
   "source": [
    "## Random Forest Regression"
   ]
  },
  {
   "cell_type": "code",
   "execution_count": 10,
   "metadata": {},
   "outputs": [
    {
     "name": "stdout",
     "output_type": "stream",
     "text": [
      "Rsquared on Training 0.9634572229423011\n",
      "Rsquared on Testing 0.7700345747314148\n"
     ]
    }
   ],
   "source": [
    "from sklearn.ensemble import RandomForestRegressor\n",
    "\n",
    "model = RandomForestRegressor()\n",
    "model.fit(x_train, y_train)\n",
    "\n",
    "print('Rsquared on Training', r2_score(y_train, model.predict(x_train)))\n",
    "print('Rsquared on Testing', r2_score(y_test, model.predict(x_test)))"
   ]
  },
  {
   "cell_type": "code",
   "execution_count": 11,
   "metadata": {},
   "outputs": [
    {
     "name": "stdout",
     "output_type": "stream",
     "text": [
      "Best parameters are: {'max_features': 6, 'n_estimators': 34}\n",
      "Rsquared on Training 0.9724922206283496\n",
      "Rsquared on Testing 0.7907882255044669\n"
     ]
    }
   ],
   "source": [
    "param_grid = {'n_estimators': np.arange(2,50, 2), 'max_features':np.arange(2,10)}\n",
    "\n",
    "from sklearn.model_selection import GridSearchCV\n",
    "model = GridSearchCV(RandomForestRegressor(), param_grid, cv = 5)\n",
    "model.fit(x_train, y_train)\n",
    "\n",
    "print('Best parameters are:', model.best_params_)\n",
    "\n",
    "print('Rsquared on Training', r2_score(y_train, model.predict(x_train)))\n",
    "print('Rsquared on Testing', r2_score(y_test, model.predict(x_test)))"
   ]
  },
  {
   "cell_type": "markdown",
   "metadata": {},
   "source": [
    "# Gradient Boosting"
   ]
  },
  {
   "cell_type": "code",
   "execution_count": 12,
   "metadata": {},
   "outputs": [
    {
     "name": "stdout",
     "output_type": "stream",
     "text": [
      "Training Accuracy: 0.9925\n",
      "Testing Accuracy: 0.045\n"
     ]
    }
   ],
   "source": [
    "from sklearn.ensemble import GradientBoostingClassifier\n",
    "\n",
    "model = GradientBoostingClassifier()\n",
    "model.fit(x_train, y_train)\n",
    "\n",
    "print('Training Accuracy:', model.score(x_train, y_train))\n",
    "\n",
    "y_pred = model.predict(x_test)\n",
    "print('Testing Accuracy:', metrics.accuracy_score(y_pred, y_test))"
   ]
  },
  {
   "cell_type": "code",
   "execution_count": null,
   "metadata": {},
   "outputs": [],
   "source": [
    "param_grid = {'n_estimators': np.arange(1,50,2), 'learning_rate': np.linspace(0.001,1,10)}\n",
    "\n",
    "from sklearn.model_selection import GridSearchCV\n",
    "model = GridSearchCV(GradientBoostingClassifier(), param_grid, cv = 5)\n",
    "model.fit(x_train, y_train)\n",
    "\n",
    "print('Best Params Are:', model.best_params_)\n",
    "\n",
    "print('Training Accuracy:', model.score(x_train, y_train))\n",
    "\n",
    "y_pred = model.predict(x_test)\n",
    "print('Testing Accuracy:', metrics.accuracy_score(y_pred, y_test))\n",
    "\n",
    "# this code block would not successfully run for me, often going 20+ minutes without error/completion"
   ]
  },
  {
   "cell_type": "markdown",
   "metadata": {},
   "source": [
    "## Gradient Boosting Regression"
   ]
  },
  {
   "cell_type": "code",
   "execution_count": 12,
   "metadata": {},
   "outputs": [
    {
     "name": "stdout",
     "output_type": "stream",
     "text": [
      "Rsquared on Training 0.8947582536132821\n",
      "Rsquared on Testing 0.8120288557453774\n"
     ]
    }
   ],
   "source": [
    "from sklearn.ensemble import GradientBoostingRegressor\n",
    "\n",
    "model = GradientBoostingRegressor()\n",
    "model.fit(x_train, y_train)\n",
    "\n",
    "print('Rsquared on Training', r2_score(y_train, model.predict(x_train)))\n",
    "print('Rsquared on Testing', r2_score(y_test, model.predict(x_test)))"
   ]
  },
  {
   "cell_type": "code",
   "execution_count": 13,
   "metadata": {},
   "outputs": [
    {
     "name": "stdout",
     "output_type": "stream",
     "text": [
      "Best parameters are: {'learning_rate': 0.223, 'n_estimators': 17}\n",
      "Rsquared on Training 0.8732248933387149\n",
      "Rsquared on Testing 0.8078253562452823\n"
     ]
    }
   ],
   "source": [
    "param_grid = {'n_estimators': np.arange(1,20, 2), 'learning_rate':np.linspace(0.001,1,10)}\n",
    "\n",
    "from sklearn.model_selection import GridSearchCV\n",
    "model = GridSearchCV(GradientBoostingRegressor(), param_grid, cv = 5)\n",
    "model.fit(x_train, y_train)\n",
    "\n",
    "print('Best parameters are:', model.best_params_)\n",
    "\n",
    "print('Rsquared on Training', r2_score(y_train, model.predict(x_train)))\n",
    "print('Rsquared on Testing', r2_score(y_test, model.predict(x_test)))"
   ]
  },
  {
   "cell_type": "markdown",
   "metadata": {},
   "source": [
    "# Adaboost"
   ]
  },
  {
   "cell_type": "code",
   "execution_count": 14,
   "metadata": {},
   "outputs": [
    {
     "name": "stdout",
     "output_type": "stream",
     "text": [
      "Testing Accuracy: 0.0525\n",
      "Training Accuracy: 0.055\n"
     ]
    }
   ],
   "source": [
    "from sklearn.ensemble import AdaBoostClassifier\n",
    "\n",
    "model = AdaBoostClassifier()\n",
    "model.fit(x_train, y_train)\n",
    "\n",
    "print('Testing Accuracy:', model.score(x_train, y_train))\n",
    "\n",
    "y_pred = model.predict(x_test)\n",
    "print('Training Accuracy:', metrics.accuracy_score(y_pred, y_test))"
   ]
  },
  {
   "cell_type": "code",
   "execution_count": 15,
   "metadata": {},
   "outputs": [
    {
     "name": "stdout",
     "output_type": "stream",
     "text": [
      "Best parameters are: {'learning_rate': 0.334, 'n_estimators': 97}\n",
      "Training Accuracy: 0.0525\n",
      "Testing Accuracy: 0.025\n"
     ]
    }
   ],
   "source": [
    "param_grid = {'n_estimators': np.arange(1,100, 2), 'learning_rate':np.linspace(0.001,1,10)}\n",
    "\n",
    "from sklearn.model_selection import GridSearchCV\n",
    "model = GridSearchCV(AdaBoostClassifier(), param_grid, cv = 5)\n",
    "model.fit(x_train, y_train)\n",
    "\n",
    "print('Best parameters are:', model.best_params_)\n",
    "\n",
    "print('Training Accuracy:', model.score(x_train, y_train))\n",
    "\n",
    "y_pred = model.predict(x_test)\n",
    "print('Testing Accuracy:', metrics.accuracy_score(y_pred, y_test))"
   ]
  },
  {
   "cell_type": "markdown",
   "metadata": {},
   "source": [
    "## AdaBoost Regression"
   ]
  },
  {
   "cell_type": "code",
   "execution_count": 16,
   "metadata": {},
   "outputs": [
    {
     "name": "stdout",
     "output_type": "stream",
     "text": [
      "Rsquared on Training 0.8378437978759534\n",
      "Rsquared on Testing 0.7853746857028561\n"
     ]
    }
   ],
   "source": [
    "from sklearn.ensemble import AdaBoostRegressor\n",
    "\n",
    "model = AdaBoostRegressor()\n",
    "model.fit(x_train, y_train)\n",
    "\n",
    "print('Rsquared on Training', r2_score(y_train, model.predict(x_train)))\n",
    "print('Rsquared on Testing', r2_score(y_test, model.predict(x_test)))"
   ]
  },
  {
   "cell_type": "code",
   "execution_count": 17,
   "metadata": {},
   "outputs": [
    {
     "name": "stdout",
     "output_type": "stream",
     "text": [
      "Best parameters are: {'learning_rate': 0.667, 'n_estimators': 73}\n",
      "Rsquared on Training 0.8400692792654855\n",
      "Rsquared on Testing 0.7824529217896361\n"
     ]
    }
   ],
   "source": [
    "param_grid = {'n_estimators': np.arange(1,100, 2), 'learning_rate':np.linspace(0.001,1,10)}\n",
    "\n",
    "from sklearn.model_selection import GridSearchCV\n",
    "model = GridSearchCV(AdaBoostRegressor(), param_grid, cv = 5)\n",
    "model.fit(x_train, y_train)\n",
    "\n",
    "print('Best parameters are:', model.best_params_)\n",
    "\n",
    "print('Rsquared on Training', r2_score(y_train, model.predict(x_train)))\n",
    "print('Rsquared on Testing', r2_score(y_test, model.predict(x_test)))"
   ]
  },
  {
   "cell_type": "markdown",
   "metadata": {},
   "source": [
    "# K-Nearest Neighbors"
   ]
  },
  {
   "cell_type": "code",
   "execution_count": 18,
   "metadata": {},
   "outputs": [
    {
     "name": "stdout",
     "output_type": "stream",
     "text": [
      "Training Accuracy: 0.26875\n",
      "Testing Accuracy: 0.03\n"
     ]
    }
   ],
   "source": [
    "from sklearn.neighbors import KNeighborsClassifier\n",
    "model = KNeighborsClassifier()\n",
    "model.fit(x_train, y_train)\n",
    "\n",
    "print('Training Accuracy:', model.score(x_train, y_train))\n",
    "\n",
    "y_pred = model.predict(x_test)\n",
    "print('Testing Accuracy:', metrics.accuracy_score(y_pred, y_test))"
   ]
  },
  {
   "cell_type": "code",
   "execution_count": 19,
   "metadata": {},
   "outputs": [
    {
     "name": "stdout",
     "output_type": "stream",
     "text": [
      "Best parameters are: {'n_neighbors': 12}\n",
      "Training Accuracy: 0.21\n",
      "Testing Accuracy: 0.04\n"
     ]
    }
   ],
   "source": [
    "param_grid = {'n_neighbors': np.arange(2,20, 2)}\n",
    "\n",
    "from sklearn.model_selection import GridSearchCV\n",
    "model = GridSearchCV(KNeighborsClassifier(), param_grid, cv = 5)\n",
    "model.fit(x_train, y_train)\n",
    "\n",
    "print('Best parameters are:', model.best_params_)\n",
    "\n",
    "print('Training Accuracy:', model.score(x_train, y_train))\n",
    "\n",
    "y_pred = model.predict(x_test)\n",
    "print('Testing Accuracy:', metrics.accuracy_score(y_pred, y_test))"
   ]
  },
  {
   "cell_type": "markdown",
   "metadata": {},
   "source": [
    "## KNN Regression"
   ]
  },
  {
   "cell_type": "code",
   "execution_count": 20,
   "metadata": {},
   "outputs": [
    {
     "name": "stdout",
     "output_type": "stream",
     "text": [
      "Rsquared on Training 0.8206274061215696\n",
      "Rsquared on Testing 0.69044702550327\n"
     ]
    }
   ],
   "source": [
    "from sklearn.neighbors import KNeighborsRegressor\n",
    "model = KNeighborsRegressor()\n",
    "model.fit(x_train, y_train)\n",
    "\n",
    "print('Rsquared on Training', r2_score(y_train, model.predict(x_train)))\n",
    "print('Rsquared on Testing', r2_score(y_test, model.predict(x_test)))"
   ]
  },
  {
   "cell_type": "code",
   "execution_count": 21,
   "metadata": {},
   "outputs": [
    {
     "name": "stdout",
     "output_type": "stream",
     "text": [
      "Best parameters are: {'n_neighbors': 7}\n",
      "Rsquared on Training 0.8010525922007985\n",
      "Rsquared on Testing 0.7103930999380541\n"
     ]
    }
   ],
   "source": [
    "param_grid = {'n_neighbors':np.arange(1,10)}\n",
    "model = GridSearchCV(KNeighborsRegressor(), param_grid, cv = 5)\n",
    "model.fit(x_train, y_train)\n",
    "\n",
    "print('Best parameters are:', model.best_params_)\n",
    "\n",
    "print('Rsquared on Training', r2_score(y_train, model.predict(x_train)))\n",
    "print('Rsquared on Testing', r2_score(y_test, model.predict(x_test)))"
   ]
  },
  {
   "cell_type": "markdown",
   "metadata": {},
   "source": [
    "# Logistic Regression"
   ]
  },
  {
   "cell_type": "code",
   "execution_count": 22,
   "metadata": {},
   "outputs": [
    {
     "name": "stdout",
     "output_type": "stream",
     "text": [
      "Training Accuracy: 0.115\n",
      "Testing Accuracy: 0.04\n"
     ]
    }
   ],
   "source": [
    "from sklearn.linear_model import LogisticRegression\n",
    "model = LogisticRegression()\n",
    "model.fit(x_train, y_train)\n",
    "# Accuracry on training data\n",
    "print('Training Accuracy:', model.score(x_train, y_train))\n",
    "\n",
    "# Prediction and accuracy on testing data\n",
    "y_pred = model.predict(x_test)\n",
    "print('Testing Accuracy:', metrics.accuracy_score(y_pred, y_test))"
   ]
  },
  {
   "cell_type": "markdown",
   "metadata": {},
   "source": [
    "# ElasticNet Regression"
   ]
  },
  {
   "cell_type": "code",
   "execution_count": 23,
   "metadata": {},
   "outputs": [
    {
     "name": "stdout",
     "output_type": "stream",
     "text": [
      "Rsquared on Training 0.7856829516788898\n",
      "Rsquared on Testing 0.7564418395303305\n"
     ]
    }
   ],
   "source": [
    "from sklearn.linear_model import ElasticNet\n",
    "from sklearn.metrics import r2_score\n",
    "model = ElasticNet()\n",
    "model.fit(x_train, y_train)\n",
    "\n",
    "print('Rsquared on Training', r2_score(y_train, model.predict(x_train)))\n",
    "print('Rsquared on Testing', r2_score(y_test, model.predict(x_test)))"
   ]
  },
  {
   "cell_type": "code",
   "execution_count": 24,
   "metadata": {},
   "outputs": [
    {
     "name": "stdout",
     "output_type": "stream",
     "text": [
      "Best parameters are: {'alpha': 0.0, 'l1_ratio': 0.0}\n",
      "Rsquared on Training 0.8600344102186028\n",
      "Rsquared on Testing 0.8266219128471293\n"
     ]
    }
   ],
   "source": [
    "param_grid = {'alpha':np.linspace(0,10, 10), 'l1_ratio':np.linspace(0,1,10)}\n",
    "model = GridSearchCV(ElasticNet(), param_grid, cv = 5)\n",
    "model.fit(x_train, y_train)\n",
    "\n",
    "print('Best parameters are:', model.best_params_)\n",
    "\n",
    "print('Rsquared on Training', r2_score(y_train, model.predict(x_train)))\n",
    "print('Rsquared on Testing', r2_score(y_test, model.predict(x_test)))"
   ]
  },
  {
   "cell_type": "markdown",
   "metadata": {},
   "source": [
    "# Results"
   ]
  },
  {
   "cell_type": "markdown",
   "metadata": {},
   "source": [
    "Had some issues running different tuning models for some of the different tree-based models as the tuning code blocks would take extended periods of time to finish running, if they ever completed. "
   ]
  },
  {
   "cell_type": "markdown",
   "metadata": {},
   "source": [
    "The best model was the ElasticNet Regression model"
   ]
  },
  {
   "cell_type": "markdown",
   "metadata": {},
   "source": [
    "From performing the first model with ElasticNet, the RSquared was low on training and testing compared to others such as the Random Forest Regression model. However, once it was tuned, the model was not overfitted and did a reliable job of predicting the testing data. "
   ]
  },
  {
   "cell_type": "markdown",
   "metadata": {},
   "source": [
    "The tuning parameters are alpha = 0.0, l1_ratio = 0.0"
   ]
  },
  {
   "cell_type": "markdown",
   "metadata": {},
   "source": [
    "This resulted in:\n",
    "\n",
    "Training RSquared = 0.8552 \n",
    "\n",
    "Testing RSquared = 0.8489"
   ]
  }
 ],
 "metadata": {
  "kernelspec": {
   "display_name": "Python 3",
   "language": "python",
   "name": "python3"
  },
  "language_info": {
   "codemirror_mode": {
    "name": "ipython",
    "version": 3
   },
   "file_extension": ".py",
   "mimetype": "text/x-python",
   "name": "python",
   "nbconvert_exporter": "python",
   "pygments_lexer": "ipython3",
   "version": "3.7.3"
  }
 },
 "nbformat": 4,
 "nbformat_minor": 4
}
